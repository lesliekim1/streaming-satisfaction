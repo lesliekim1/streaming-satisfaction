{
 "cells": [
  {
   "cell_type": "markdown",
   "id": "01f0961b-fb04-4a6b-9873-c4850a955948",
   "metadata": {},
   "source": [
    "# Data Prep"
   ]
  },
  {
   "cell_type": "code",
   "execution_count": 1,
   "id": "cdf059e4-e00f-4cd1-a4a5-c92fbca37bc1",
   "metadata": {},
   "outputs": [],
   "source": [
    "import pandas as pd \n",
    "from sklearn.preprocessing import MultiLabelBinarizer"
   ]
  },
  {
   "cell_type": "markdown",
   "id": "cff4d542-b3a2-4d39-a448-ae015f09396b",
   "metadata": {},
   "source": [
    "## Preprocessing"
   ]
  },
  {
   "cell_type": "markdown",
   "id": "7b69e636-cd7f-4c75-a335-41c26762ff69",
   "metadata": {},
   "source": [
    "Netflix Customer Satisfaction dataset from a Qualtrics survey. \n",
    "\n",
    "The target is \"How likely are you to recommend Netflix to someone looking for a streaming service, knowing that they have recently cracked down on password sharing?\".\n",
    "\n",
    "note: It was downloaded as a CSV file with values already."
   ]
  },
  {
   "cell_type": "code",
   "execution_count": 2,
   "id": "3be4f5ce-1f3f-420b-91de-2dac8d3bbc3c",
   "metadata": {},
   "outputs": [
    {
     "data": {
      "text/html": [
       "<div>\n",
       "<style scoped>\n",
       "    .dataframe tbody tr th:only-of-type {\n",
       "        vertical-align: middle;\n",
       "    }\n",
       "\n",
       "    .dataframe tbody tr th {\n",
       "        vertical-align: top;\n",
       "    }\n",
       "\n",
       "    .dataframe thead th {\n",
       "        text-align: right;\n",
       "    }\n",
       "</style>\n",
       "<table border=\"1\" class=\"dataframe\">\n",
       "  <thead>\n",
       "    <tr style=\"text-align: right;\">\n",
       "      <th></th>\n",
       "      <th>Start Date</th>\n",
       "      <th>End Date</th>\n",
       "      <th>Response Type</th>\n",
       "      <th>IP Address</th>\n",
       "      <th>Progress</th>\n",
       "      <th>Duration (in seconds)</th>\n",
       "      <th>Finished</th>\n",
       "      <th>Recorded Date</th>\n",
       "      <th>Response ID</th>\n",
       "      <th>Recipient Last Name</th>\n",
       "      <th>...</th>\n",
       "      <th>Using the scale below, please rate how likely you are to choose Netflix over the following social media platforms based on the variety of content available on Netflix. - Youtube</th>\n",
       "      <th>Using the scale below, please rate how likely you are to choose Netflix over the following social media platforms based on the variety of content available on Netflix. - TikTok</th>\n",
       "      <th>Using the scale below, please rate how likely you are to choose Netflix over the following social media platforms based on the variety of content available on Netflix. - Instagram</th>\n",
       "      <th>Using the scale below, please rate how likely you are to choose Netflix over the following social media platforms based on the variety of content available on Netflix. - Facebook</th>\n",
       "      <th>How satisfied are you with Netflix's decision to add ad-supported subscription?</th>\n",
       "      <th>How likely are you to continue subscribing to Netflix, even if some of your favorite shows or movies become unavailable?</th>\n",
       "      <th>How likely are you to recommend Netflix to someone looking for a streaming service, knowing that they have recently cracked down on password sharing?</th>\n",
       "      <th>How satisfied are you with Netflix's original content?</th>\n",
       "      <th>How satisfied are you with Netflix recommender system?</th>\n",
       "      <th>How satisfied are you with the user interface design of Netflix?</th>\n",
       "    </tr>\n",
       "  </thead>\n",
       "  <tbody>\n",
       "  </tbody>\n",
       "</table>\n",
       "<p>0 rows × 44 columns</p>\n",
       "</div>"
      ],
      "text/plain": [
       "Empty DataFrame\n",
       "Columns: [Start Date, End Date, Response Type, IP Address, Progress, Duration (in seconds), Finished, Recorded Date, Response ID, Recipient Last Name, Recipient First Name, Recipient Email, External Data Reference, Location Latitude, Location Longitude, Distribution Channel, User Language, What is your age range?, What is your current employment status or profession?, For how many years have you been a Netflix subscriber?, How often do you watch Netflix in a typical week?, What types of content do you typically watch on Netflix? (Select all that apply), Using the scale below, please rate how likely you are to choose Netflix over the following streaming services based on its subscription cost: - Amazon Prime Video, Using the scale below, please rate how likely you are to choose Netflix over the following streaming services based on its subscription cost: - Hulu, Using the scale below, please rate how likely you are to choose Netflix over the following streaming services based on its subscription cost: - Disney+, Using the scale below, please rate how likely you are to choose Netflix over the following streaming services based on its subscription cost: - HBO Max, Using the scale below, please rate how likely you are to choose Netflix over the following streaming services based on its content: - Amazon Prime Video, Using the scale below, please rate how likely you are to choose Netflix over the following streaming services based on its content: - Hulu, Using the scale below, please rate how likely you are to choose Netflix over the following streaming services based on its content: - Disney+, Using the scale below, please rate how likely you are to choose Netflix over the following streaming services based on its content: - HBO Max, Using the scale below, please rate how likely you are to choose Netflix over free videos on the following social media platforms: - YouTube, Using the scale below, please rate how likely you are to choose Netflix over free videos on the following social media platforms: - TikTok, Using the scale below, please rate how likely you are to choose Netflix over free videos on the following social media platforms: - Instagram, Using the scale below, please rate how likely you are to choose Netflix over free videos on the following social media platforms: - Facebook, Using the scale below, please rate how likely you are to choose Netflix over the following social media platforms based on the variety of content available on Netflix. - Youtube, Using the scale below, please rate how likely you are to choose Netflix over the following social media platforms based on the variety of content available on Netflix. - TikTok, Using the scale below, please rate how likely you are to choose Netflix over the following social media platforms based on the variety of content available on Netflix. - Instagram, Using the scale below, please rate how likely you are to choose Netflix over the following social media platforms based on the variety of content available on Netflix. - Facebook, How satisfied are you with Netflix's decision to add ad-supported subscription?, How likely are you to continue subscribing to Netflix, even if some of your favorite shows or movies become unavailable?, How likely are you to recommend Netflix to someone looking for a streaming service, knowing that they have recently cracked down on password sharing?, How satisfied are you with Netflix's original content?, How satisfied are you with Netflix recommender system?, How satisfied are you with the user interface design of Netflix?]\n",
       "Index: []\n",
       "\n",
       "[0 rows x 44 columns]"
      ]
     },
     "execution_count": 2,
     "metadata": {},
     "output_type": "execute_result"
    }
   ],
   "source": [
    "df = pd.read_csv(\"stream.csv\",skipinitialspace=True)\n",
    "# Output column headers only\n",
    "df.head(0)"
   ]
  },
  {
   "cell_type": "markdown",
   "id": "95e2d4b4-c284-4f68-9742-927a158ea9ba",
   "metadata": {},
   "source": [
    "Output the initial number of rows and columns in the dataframe."
   ]
  },
  {
   "cell_type": "code",
   "execution_count": 3,
   "id": "7695bc50-0e38-425a-937a-cd33fe10ca90",
   "metadata": {},
   "outputs": [
    {
     "name": "stdout",
     "output_type": "stream",
     "text": [
      "(57, 44)\n",
      "Index(['Start Date', 'End Date', 'Response Type', 'IP Address', 'Progress',\n",
      "       'Duration (in seconds)', 'Finished', 'Recorded Date', 'Response ID',\n",
      "       'Recipient Last Name', 'Recipient First Name', 'Recipient Email',\n",
      "       'External Data Reference', 'Location Latitude', 'Location Longitude',\n",
      "       'Distribution Channel', 'User Language', 'What is your age range?',\n",
      "       'What is your current employment status or profession?',\n",
      "       'For how many years have you been a Netflix subscriber?',\n",
      "       'How often do you watch Netflix in a typical week?',\n",
      "       'What types of content do you typically watch on Netflix? (Select all that apply)',\n",
      "       'Using the scale below, please rate how likely you are to choose Netflix over the following streaming services based on its subscription cost: - Amazon Prime Video',\n",
      "       'Using the scale below, please rate how likely you are to choose Netflix over the following streaming services based on its subscription cost: - Hulu',\n",
      "       'Using the scale below, please rate how likely you are to choose Netflix over the following streaming services based on its subscription cost: - Disney+',\n",
      "       'Using the scale below, please rate how likely you are to choose Netflix over the following streaming services based on its subscription cost: - HBO Max',\n",
      "       'Using the scale below, please rate how likely you are to choose Netflix over the following streaming services based on its content: - Amazon Prime Video',\n",
      "       'Using the scale below, please rate how likely you are to choose Netflix over the following streaming services based on its content: - Hulu',\n",
      "       'Using the scale below, please rate how likely you are to choose Netflix over the following streaming services based on its content: - Disney+',\n",
      "       'Using the scale below, please rate how likely you are to choose Netflix over the following streaming services based on its content: - HBO Max',\n",
      "       'Using the scale below, please rate how likely you are to choose Netflix over free videos on the following social media platforms: - YouTube',\n",
      "       'Using the scale below, please rate how likely you are to choose Netflix over free videos on the following social media platforms: - TikTok',\n",
      "       'Using the scale below, please rate how likely you are to choose Netflix over free videos on the following social media platforms: - Instagram',\n",
      "       'Using the scale below, please rate how likely you are to choose Netflix over free videos on the following social media platforms: - Facebook',\n",
      "       'Using the scale below, please rate how likely you are to choose Netflix over the following social media platforms based on the variety of content available on Netflix. - Youtube',\n",
      "       'Using the scale below, please rate how likely you are to choose Netflix over the following social media platforms based on the variety of content available on Netflix. - TikTok',\n",
      "       'Using the scale below, please rate how likely you are to choose Netflix over the following social media platforms based on the variety of content available on Netflix. - Instagram',\n",
      "       'Using the scale below, please rate how likely you are to choose Netflix over the following social media platforms based on the variety of content available on Netflix. - Facebook',\n",
      "       'How satisfied are you with Netflix's decision to add ad-supported subscription?',\n",
      "       'How likely are you to continue subscribing to Netflix, even if some of your favorite shows or movies become unavailable?',\n",
      "       'How likely are you to recommend Netflix to someone looking for a streaming service, knowing that they have recently cracked down on password sharing?',\n",
      "       'How satisfied are you with Netflix's original content?',\n",
      "       'How satisfied are you with Netflix recommender system?',\n",
      "       'How satisfied are you with the user interface design of Netflix?'],\n",
      "      dtype='object')\n"
     ]
    }
   ],
   "source": [
    "print(df.shape)\n",
    "print(df.columns)"
   ]
  },
  {
   "cell_type": "markdown",
   "id": "965db471-a9f0-4989-9a7d-36e95a8438ee",
   "metadata": {},
   "source": []
  },
  {
   "cell_type": "markdown",
   "id": "0d70a736-a429-4698-b7c8-5a5156da2367",
   "metadata": {},
   "source": [
    "## Missing Values"
   ]
  },
  {
   "cell_type": "markdown",
   "id": "b3ebddee-eb05-4776-8442-86af5cd3375c",
   "metadata": {},
   "source": [
    "Check for any missing values and drop the columns with the most missing values."
   ]
  },
  {
   "cell_type": "code",
   "execution_count": 4,
   "id": "9f33b00e-a930-4e27-a553-33e56f95e0f1",
   "metadata": {},
   "outputs": [
    {
     "data": {
      "text/plain": [
       "Recipient Email                                                                                                                                                                        57\n",
       "Recipient Last Name                                                                                                                                                                    57\n",
       "Recipient First Name                                                                                                                                                                   57\n",
       "External Data Reference                                                                                                                                                                57\n",
       "Using the scale below, please rate how likely you are to choose Netflix over free videos on the following social media platforms: - TikTok                                             19\n",
       "Using the scale below, please rate how likely you are to choose Netflix over the following social media platforms based on the variety of content available on Netflix. - Instagram    19\n",
       "How satisfied are you with Netflix recommender system?                                                                                                                                 19\n",
       "Using the scale below, please rate how likely you are to choose Netflix over the following streaming services based on its subscription cost: - Disney+                                18\n",
       "Using the scale below, please rate how likely you are to choose Netflix over the following streaming services based on its content: - Hulu                                             18\n",
       "Using the scale below, please rate how likely you are to choose Netflix over the following streaming services based on its content: - Amazon Prime Video                               18\n",
       "Using the scale below, please rate how likely you are to choose Netflix over the following streaming services based on its subscription cost: - HBO Max                                18\n",
       "Using the scale below, please rate how likely you are to choose Netflix over free videos on the following social media platforms: - YouTube                                            18\n",
       "How likely are you to continue subscribing to Netflix, even if some of your favorite shows or movies become unavailable?                                                               18\n",
       "How likely are you to recommend Netflix to someone looking for a streaming service, knowing that they have recently cracked down on password sharing?                                  18\n",
       "How satisfied are you with Netflix's decision to add ad-supported subscription?                                                                                                        18\n",
       "Using the scale below, please rate how likely you are to choose Netflix over the following social media platforms based on the variety of content available on Netflix. - Facebook     18\n",
       "How satisfied are you with Netflix's original content?                                                                                                                                 18\n",
       "How satisfied are you with the user interface design of Netflix?                                                                                                                       18\n",
       "Using the scale below, please rate how likely you are to choose Netflix over the following social media platforms based on the variety of content available on Netflix. - Youtube      18\n",
       "Using the scale below, please rate how likely you are to choose Netflix over the following social media platforms based on the variety of content available on Netflix. - TikTok       18\n",
       "Using the scale below, please rate how likely you are to choose Netflix over the following streaming services based on its content: - Disney+                                          18\n",
       "Using the scale below, please rate how likely you are to choose Netflix over the following streaming services based on its content: - HBO Max                                          18\n",
       "Using the scale below, please rate how likely you are to choose Netflix over free videos on the following social media platforms: - Facebook                                           18\n",
       "Using the scale below, please rate how likely you are to choose Netflix over free videos on the following social media platforms: - Instagram                                          18\n",
       "Using the scale below, please rate how likely you are to choose Netflix over the following streaming services based on its subscription cost: - Hulu                                   18\n",
       "Using the scale below, please rate how likely you are to choose Netflix over the following streaming services based on its subscription cost: - Amazon Prime Video                     17\n",
       "Location Latitude                                                                                                                                                                      17\n",
       "Location Longitude                                                                                                                                                                     17\n",
       "What types of content do you typically watch on Netflix? (Select all that apply)                                                                                                        9\n",
       "How often do you watch Netflix in a typical week?                                                                                                                                       8\n",
       "For how many years have you been a Netflix subscriber?                                                                                                                                  8\n",
       "What is your age range?                                                                                                                                                                 8\n",
       "What is your current employment status or profession?                                                                                                                                   8\n",
       "Response ID                                                                                                                                                                             0\n",
       "Response Type                                                                                                                                                                           0\n",
       "IP Address                                                                                                                                                                              0\n",
       "Start Date                                                                                                                                                                              0\n",
       "Duration (in seconds)                                                                                                                                                                   0\n",
       "Finished                                                                                                                                                                                0\n",
       "Recorded Date                                                                                                                                                                           0\n",
       "Progress                                                                                                                                                                                0\n",
       "End Date                                                                                                                                                                                0\n",
       "Distribution Channel                                                                                                                                                                    0\n",
       "User Language                                                                                                                                                                           0\n",
       "dtype: int64"
      ]
     },
     "execution_count": 4,
     "metadata": {},
     "output_type": "execute_result"
    }
   ],
   "source": [
    "# Identify missing values\n",
    "df.isna().sum().sort_values(ascending=False)"
   ]
  },
  {
   "cell_type": "markdown",
   "id": "e4789835-753a-4bee-938d-ab32989788f8",
   "metadata": {},
   "source": [
    "Drop features with missing values more than 30 and not useful features."
   ]
  },
  {
   "cell_type": "code",
   "execution_count": 5,
   "id": "fbf3b819-0c2d-43db-a097-4a7be21fee60",
   "metadata": {},
   "outputs": [],
   "source": [
    "missing_threshold = 30\n",
    "\n",
    "# Drop columns with more than 30 missing values\n",
    "df = df.loc[:, df.isna().sum() <= missing_threshold]\n",
    "\n",
    "cols = [\n",
    "    'Recipient Email',\n",
    "    'Recipient First Name',\n",
    "    'Recipient Last Name',\n",
    "    'External Data Reference',\n",
    "    'IP Address',\n",
    "    'Response ID',\n",
    "    'Start Date',\n",
    "    'End Date',\n",
    "    'Recorded Date',\n",
    "    'Location Latitude',\n",
    "    'Location Longitude',\n",
    "    'Distribution Channel',\n",
    "    'Response Type',\n",
    "    'User Language',\n",
    "    'Duration (in seconds)',\n",
    "    'Progress',\n",
    "    'Finished'\n",
    "]\n",
    "\n",
    "# Drop unrelated features\n",
    "for col in cols:\n",
    "    if col in df.columns:\n",
    "        df.drop(columns=col, inplace=True)"
   ]
  },
  {
   "cell_type": "code",
   "execution_count": 6,
   "id": "9fe8bb1d-4ad5-4e3f-892c-9875b0528d0c",
   "metadata": {},
   "outputs": [
    {
     "data": {
      "text/plain": [
       "How satisfied are you with Netflix recommender system?                                                                                                                                 19\n",
       "Using the scale below, please rate how likely you are to choose Netflix over the following social media platforms based on the variety of content available on Netflix. - Instagram    19\n",
       "Using the scale below, please rate how likely you are to choose Netflix over free videos on the following social media platforms: - TikTok                                             19\n",
       "Using the scale below, please rate how likely you are to choose Netflix over the following streaming services based on its content: - Hulu                                             18\n",
       "Using the scale below, please rate how likely you are to choose Netflix over the following streaming services based on its subscription cost: - Disney+                                18\n",
       "Using the scale below, please rate how likely you are to choose Netflix over free videos on the following social media platforms: - Facebook                                           18\n",
       "Using the scale below, please rate how likely you are to choose Netflix over free videos on the following social media platforms: - Instagram                                          18\n",
       "Using the scale below, please rate how likely you are to choose Netflix over the following streaming services based on its content: - Disney+                                          18\n",
       "Using the scale below, please rate how likely you are to choose Netflix over the following streaming services based on its subscription cost: - HBO Max                                18\n",
       "Using the scale below, please rate how likely you are to choose Netflix over the following streaming services based on its content: - Amazon Prime Video                               18\n",
       "Using the scale below, please rate how likely you are to choose Netflix over the following streaming services based on its subscription cost: - Hulu                                   18\n",
       "Using the scale below, please rate how likely you are to choose Netflix over the following social media platforms based on the variety of content available on Netflix. - TikTok       18\n",
       "Using the scale below, please rate how likely you are to choose Netflix over the following social media platforms based on the variety of content available on Netflix. - Youtube      18\n",
       "How satisfied are you with Netflix's decision to add ad-supported subscription?                                                                                                        18\n",
       "Using the scale below, please rate how likely you are to choose Netflix over the following social media platforms based on the variety of content available on Netflix. - Facebook     18\n",
       "How likely are you to continue subscribing to Netflix, even if some of your favorite shows or movies become unavailable?                                                               18\n",
       "How likely are you to recommend Netflix to someone looking for a streaming service, knowing that they have recently cracked down on password sharing?                                  18\n",
       "Using the scale below, please rate how likely you are to choose Netflix over the following streaming services based on its content: - HBO Max                                          18\n",
       "Using the scale below, please rate how likely you are to choose Netflix over free videos on the following social media platforms: - YouTube                                            18\n",
       "How satisfied are you with Netflix's original content?                                                                                                                                 18\n",
       "How satisfied are you with the user interface design of Netflix?                                                                                                                       18\n",
       "Using the scale below, please rate how likely you are to choose Netflix over the following streaming services based on its subscription cost: - Amazon Prime Video                     17\n",
       "What types of content do you typically watch on Netflix? (Select all that apply)                                                                                                        9\n",
       "How often do you watch Netflix in a typical week?                                                                                                                                       8\n",
       "What is your age range?                                                                                                                                                                 8\n",
       "What is your current employment status or profession?                                                                                                                                   8\n",
       "For how many years have you been a Netflix subscriber?                                                                                                                                  8\n",
       "dtype: int64"
      ]
     },
     "execution_count": 6,
     "metadata": {},
     "output_type": "execute_result"
    }
   ],
   "source": [
    "# Identify missing values\n",
    "df.isna().sum().sort_values(ascending=False)"
   ]
  },
  {
   "cell_type": "markdown",
   "id": "4f98a07b-3078-4746-8774-6f6cc3fcec3f",
   "metadata": {},
   "source": [
    "## Replace missing values"
   ]
  },
  {
   "cell_type": "markdown",
   "id": "0b3ea37d-0c1f-439c-8b8b-bc34997ca061",
   "metadata": {},
   "source": [
    "Replace the columns with missing values with the mode. This is to avoid losing more data as those rows may still be useful to predict customer satisfaction."
   ]
  },
  {
   "cell_type": "code",
   "execution_count": 7,
   "id": "e6ca87fc-e21b-4760-9159-de5e83f8f791",
   "metadata": {},
   "outputs": [],
   "source": [
    "cols = [\n",
    "    \"How satisfied are you with Netflix recommender system?\",\n",
    "    \"Using the scale below, please rate how likely you are to choose Netflix over the following social media platforms based on the variety of content available on Netflix. - Instagram\",\n",
    "    \"Using the scale below, please rate how likely you are to choose Netflix over free videos on the following social media platforms: - TikTok\",\n",
    "    \"Using the scale below, please rate how likely you are to choose Netflix over the following streaming services based on its content: - Hulu\",\n",
    "    \"Using the scale below, please rate how likely you are to choose Netflix over the following streaming services based on its subscription cost: - Disney+\",\n",
    "    \"Using the scale below, please rate how likely you are to choose Netflix over free videos on the following social media platforms: - Facebook\",\n",
    "    \"Using the scale below, please rate how likely you are to choose Netflix over free videos on the following social media platforms: - Instagram\",\n",
    "    \"Using the scale below, please rate how likely you are to choose Netflix over the following streaming services based on its content: - Disney+\",\n",
    "    \"Using the scale below, please rate how likely you are to choose Netflix over the following streaming services based on its subscription cost: - HBO Max\",\n",
    "    \"Using the scale below, please rate how likely you are to choose Netflix over the following streaming services based on its content: - Amazon Prime Video\",\n",
    "    \"Using the scale below, please rate how likely you are to choose Netflix over the following streaming services based on its subscription cost: - Hulu\",\n",
    "    \"Using the scale below, please rate how likely you are to choose Netflix over the following social media platforms based on the variety of content available on Netflix. - TikTok\",\n",
    "    \"Using the scale below, please rate how likely you are to choose Netflix over the following social media platforms based on the variety of content available on Netflix. - Youtube\",\n",
    "    \"How satisfied are you with Netflix's decision to add ad-supported subscription?\",\n",
    "    \"Using the scale below, please rate how likely you are to choose Netflix over the following social media platforms based on the variety of content available on Netflix. - Facebook\",\n",
    "    \"How likely are you to continue subscribing to Netflix, even if some of your favorite shows or movies become unavailable?\",\n",
    "    \"How likely are you to recommend Netflix to someone looking for a streaming service, knowing that they have recently cracked down on password sharing?\",\n",
    "    \"Using the scale below, please rate how likely you are to choose Netflix over the following streaming services based on its content: - HBO Max\",\n",
    "    \"Using the scale below, please rate how likely you are to choose Netflix over free videos on the following social media platforms: - YouTube\",\n",
    "    \"How satisfied are you with Netflix's original content?\",\n",
    "    \"How satisfied are you with the user interface design of Netflix?\",\n",
    "    \"Using the scale below, please rate how likely you are to choose Netflix over the following streaming services based on its subscription cost: - Amazon Prime Video\"\n",
    "]\n",
    "\n",
    "df.dropna(subset=cols, inplace=True)"
   ]
  },
  {
   "cell_type": "code",
   "execution_count": 8,
   "id": "a987064d-1a1a-4a65-8a64-ce16f0cfd583",
   "metadata": {},
   "outputs": [
    {
     "data": {
      "text/plain": [
       "What is your age range?                                                                                                                                                                0\n",
       "What is your current employment status or profession?                                                                                                                                  0\n",
       "For how many years have you been a Netflix subscriber?                                                                                                                                 0\n",
       "How often do you watch Netflix in a typical week?                                                                                                                                      0\n",
       "What types of content do you typically watch on Netflix? (Select all that apply)                                                                                                       0\n",
       "Using the scale below, please rate how likely you are to choose Netflix over the following streaming services based on its subscription cost: - Amazon Prime Video                     0\n",
       "Using the scale below, please rate how likely you are to choose Netflix over the following streaming services based on its subscription cost: - Hulu                                   0\n",
       "Using the scale below, please rate how likely you are to choose Netflix over the following streaming services based on its subscription cost: - Disney+                                0\n",
       "Using the scale below, please rate how likely you are to choose Netflix over the following streaming services based on its subscription cost: - HBO Max                                0\n",
       "Using the scale below, please rate how likely you are to choose Netflix over the following streaming services based on its content: - Amazon Prime Video                               0\n",
       "Using the scale below, please rate how likely you are to choose Netflix over the following streaming services based on its content: - Hulu                                             0\n",
       "Using the scale below, please rate how likely you are to choose Netflix over the following streaming services based on its content: - Disney+                                          0\n",
       "Using the scale below, please rate how likely you are to choose Netflix over the following streaming services based on its content: - HBO Max                                          0\n",
       "Using the scale below, please rate how likely you are to choose Netflix over free videos on the following social media platforms: - YouTube                                            0\n",
       "Using the scale below, please rate how likely you are to choose Netflix over free videos on the following social media platforms: - TikTok                                             0\n",
       "Using the scale below, please rate how likely you are to choose Netflix over free videos on the following social media platforms: - Instagram                                          0\n",
       "Using the scale below, please rate how likely you are to choose Netflix over free videos on the following social media platforms: - Facebook                                           0\n",
       "Using the scale below, please rate how likely you are to choose Netflix over the following social media platforms based on the variety of content available on Netflix. - Youtube      0\n",
       "Using the scale below, please rate how likely you are to choose Netflix over the following social media platforms based on the variety of content available on Netflix. - TikTok       0\n",
       "Using the scale below, please rate how likely you are to choose Netflix over the following social media platforms based on the variety of content available on Netflix. - Instagram    0\n",
       "Using the scale below, please rate how likely you are to choose Netflix over the following social media platforms based on the variety of content available on Netflix. - Facebook     0\n",
       "How satisfied are you with Netflix's decision to add ad-supported subscription?                                                                                                        0\n",
       "How likely are you to continue subscribing to Netflix, even if some of your favorite shows or movies become unavailable?                                                               0\n",
       "How likely are you to recommend Netflix to someone looking for a streaming service, knowing that they have recently cracked down on password sharing?                                  0\n",
       "How satisfied are you with Netflix's original content?                                                                                                                                 0\n",
       "How satisfied are you with Netflix recommender system?                                                                                                                                 0\n",
       "How satisfied are you with the user interface design of Netflix?                                                                                                                       0\n",
       "dtype: int64"
      ]
     },
     "execution_count": 8,
     "metadata": {},
     "output_type": "execute_result"
    }
   ],
   "source": [
    "# Identify missing values\n",
    "df.isna().sum().sort_values(ascending=False)"
   ]
  },
  {
   "cell_type": "markdown",
   "id": "f7997718-7b48-4763-b365-3a2328f7b8b5",
   "metadata": {},
   "source": [
    "Although the dataset was downloaded as csv file with values already from Qualtrics, still check if each column has numeric data."
   ]
  },
  {
   "cell_type": "code",
   "execution_count": 9,
   "id": "582e7100-5143-4f69-9124-ad730085aeda",
   "metadata": {},
   "outputs": [
    {
     "name": "stdout",
     "output_type": "stream",
     "text": [
      "What is your age range?                                                                                                                                                                float64\n",
      "What is your current employment status or profession?                                                                                                                                  float64\n",
      "For how many years have you been a Netflix subscriber?                                                                                                                                 float64\n",
      "How often do you watch Netflix in a typical week?                                                                                                                                      float64\n",
      "What types of content do you typically watch on Netflix? (Select all that apply)                                                                                                        object\n",
      "Using the scale below, please rate how likely you are to choose Netflix over the following streaming services based on its subscription cost: - Amazon Prime Video                     float64\n",
      "Using the scale below, please rate how likely you are to choose Netflix over the following streaming services based on its subscription cost: - Hulu                                   float64\n",
      "Using the scale below, please rate how likely you are to choose Netflix over the following streaming services based on its subscription cost: - Disney+                                float64\n",
      "Using the scale below, please rate how likely you are to choose Netflix over the following streaming services based on its subscription cost: - HBO Max                                float64\n",
      "Using the scale below, please rate how likely you are to choose Netflix over the following streaming services based on its content: - Amazon Prime Video                               float64\n",
      "Using the scale below, please rate how likely you are to choose Netflix over the following streaming services based on its content: - Hulu                                             float64\n",
      "Using the scale below, please rate how likely you are to choose Netflix over the following streaming services based on its content: - Disney+                                          float64\n",
      "Using the scale below, please rate how likely you are to choose Netflix over the following streaming services based on its content: - HBO Max                                          float64\n",
      "Using the scale below, please rate how likely you are to choose Netflix over free videos on the following social media platforms: - YouTube                                            float64\n",
      "Using the scale below, please rate how likely you are to choose Netflix over free videos on the following social media platforms: - TikTok                                             float64\n",
      "Using the scale below, please rate how likely you are to choose Netflix over free videos on the following social media platforms: - Instagram                                          float64\n",
      "Using the scale below, please rate how likely you are to choose Netflix over free videos on the following social media platforms: - Facebook                                           float64\n",
      "Using the scale below, please rate how likely you are to choose Netflix over the following social media platforms based on the variety of content available on Netflix. - Youtube      float64\n",
      "Using the scale below, please rate how likely you are to choose Netflix over the following social media platforms based on the variety of content available on Netflix. - TikTok       float64\n",
      "Using the scale below, please rate how likely you are to choose Netflix over the following social media platforms based on the variety of content available on Netflix. - Instagram    float64\n",
      "Using the scale below, please rate how likely you are to choose Netflix over the following social media platforms based on the variety of content available on Netflix. - Facebook     float64\n",
      "How satisfied are you with Netflix's decision to add ad-supported subscription?                                                                                                        float64\n",
      "How likely are you to continue subscribing to Netflix, even if some of your favorite shows or movies become unavailable?                                                               float64\n",
      "How likely are you to recommend Netflix to someone looking for a streaming service, knowing that they have recently cracked down on password sharing?                                  float64\n",
      "How satisfied are you with Netflix's original content?                                                                                                                                 float64\n",
      "How satisfied are you with Netflix recommender system?                                                                                                                                 float64\n",
      "How satisfied are you with the user interface design of Netflix?                                                                                                                       float64\n",
      "dtype: object\n"
     ]
    }
   ],
   "source": [
    "print(df.dtypes)"
   ]
  },
  {
   "cell_type": "markdown",
   "id": "536c17f3-53f1-4b7d-b125-841a54da17dc",
   "metadata": {},
   "source": [
    "The only non-numeric feature is 'What types of content do you typically watch on Netflix? (Select all that apply)'. This can be one hot encoded. "
   ]
  },
  {
   "cell_type": "code",
   "execution_count": 10,
   "id": "89a8e5cf-d709-49b4-8511-d58c1903e11a",
   "metadata": {},
   "outputs": [],
   "source": [
    "col = 'What types of content do you typically watch on Netflix? (Select all that apply)'\n",
    "\n",
    "# Convert the string into lists of genre IDs\n",
    "df['content_raw'] = df[col].dropna().astype(str).str.split(',')\n",
    "\n",
    "# One-hot encode using MultiLabelBinarizer\n",
    "mlb = MultiLabelBinarizer()\n",
    "content_ohe = pd.DataFrame(\n",
    "    mlb.fit_transform(df['content_raw'].dropna()),\n",
    "    columns=[f'genre_{id}' for id in mlb.classes_],\n",
    "    index=df['content_raw'].dropna().index\n",
    ")\n",
    "\n",
    "df = df.join(content_ohe)\n",
    "df.drop(columns=[col, 'content_raw'], inplace=True)\n",
    "\n",
    "# Fill the NaNs\n",
    "df[content_ohe.columns] = df[content_ohe.columns].fillna(0)"
   ]
  },
  {
   "cell_type": "code",
   "execution_count": 11,
   "id": "d0d02ee4-2f62-4d67-8e63-38bd44193d75",
   "metadata": {},
   "outputs": [
    {
     "data": {
      "text/html": [
       "<div>\n",
       "<style scoped>\n",
       "    .dataframe tbody tr th:only-of-type {\n",
       "        vertical-align: middle;\n",
       "    }\n",
       "\n",
       "    .dataframe tbody tr th {\n",
       "        vertical-align: top;\n",
       "    }\n",
       "\n",
       "    .dataframe thead th {\n",
       "        text-align: right;\n",
       "    }\n",
       "</style>\n",
       "<table border=\"1\" class=\"dataframe\">\n",
       "  <thead>\n",
       "    <tr style=\"text-align: right;\">\n",
       "      <th></th>\n",
       "      <th>What is your age range?</th>\n",
       "      <th>What is your current employment status or profession?</th>\n",
       "      <th>For how many years have you been a Netflix subscriber?</th>\n",
       "      <th>How often do you watch Netflix in a typical week?</th>\n",
       "      <th>Using the scale below, please rate how likely you are to choose Netflix over the following streaming services based on its subscription cost: - Amazon Prime Video</th>\n",
       "      <th>Using the scale below, please rate how likely you are to choose Netflix over the following streaming services based on its subscription cost: - Hulu</th>\n",
       "      <th>Using the scale below, please rate how likely you are to choose Netflix over the following streaming services based on its subscription cost: - Disney+</th>\n",
       "      <th>Using the scale below, please rate how likely you are to choose Netflix over the following streaming services based on its subscription cost: - HBO Max</th>\n",
       "      <th>Using the scale below, please rate how likely you are to choose Netflix over the following streaming services based on its content: - Amazon Prime Video</th>\n",
       "      <th>Using the scale below, please rate how likely you are to choose Netflix over the following streaming services based on its content: - Hulu</th>\n",
       "      <th>...</th>\n",
       "      <th>genre_16</th>\n",
       "      <th>genre_17</th>\n",
       "      <th>genre_2</th>\n",
       "      <th>genre_3</th>\n",
       "      <th>genre_4</th>\n",
       "      <th>genre_5</th>\n",
       "      <th>genre_6</th>\n",
       "      <th>genre_7</th>\n",
       "      <th>genre_8</th>\n",
       "      <th>genre_9</th>\n",
       "    </tr>\n",
       "  </thead>\n",
       "  <tbody>\n",
       "  </tbody>\n",
       "</table>\n",
       "<p>0 rows × 43 columns</p>\n",
       "</div>"
      ],
      "text/plain": [
       "Empty DataFrame\n",
       "Columns: [What is your age range?, What is your current employment status or profession?, For how many years have you been a Netflix subscriber?, How often do you watch Netflix in a typical week?, Using the scale below, please rate how likely you are to choose Netflix over the following streaming services based on its subscription cost: - Amazon Prime Video, Using the scale below, please rate how likely you are to choose Netflix over the following streaming services based on its subscription cost: - Hulu, Using the scale below, please rate how likely you are to choose Netflix over the following streaming services based on its subscription cost: - Disney+, Using the scale below, please rate how likely you are to choose Netflix over the following streaming services based on its subscription cost: - HBO Max, Using the scale below, please rate how likely you are to choose Netflix over the following streaming services based on its content: - Amazon Prime Video, Using the scale below, please rate how likely you are to choose Netflix over the following streaming services based on its content: - Hulu, Using the scale below, please rate how likely you are to choose Netflix over the following streaming services based on its content: - Disney+, Using the scale below, please rate how likely you are to choose Netflix over the following streaming services based on its content: - HBO Max, Using the scale below, please rate how likely you are to choose Netflix over free videos on the following social media platforms: - YouTube, Using the scale below, please rate how likely you are to choose Netflix over free videos on the following social media platforms: - TikTok, Using the scale below, please rate how likely you are to choose Netflix over free videos on the following social media platforms: - Instagram, Using the scale below, please rate how likely you are to choose Netflix over free videos on the following social media platforms: - Facebook, Using the scale below, please rate how likely you are to choose Netflix over the following social media platforms based on the variety of content available on Netflix. - Youtube, Using the scale below, please rate how likely you are to choose Netflix over the following social media platforms based on the variety of content available on Netflix. - TikTok, Using the scale below, please rate how likely you are to choose Netflix over the following social media platforms based on the variety of content available on Netflix. - Instagram, Using the scale below, please rate how likely you are to choose Netflix over the following social media platforms based on the variety of content available on Netflix. - Facebook, How satisfied are you with Netflix's decision to add ad-supported subscription?, How likely are you to continue subscribing to Netflix, even if some of your favorite shows or movies become unavailable?, How likely are you to recommend Netflix to someone looking for a streaming service, knowing that they have recently cracked down on password sharing?, How satisfied are you with Netflix's original content?, How satisfied are you with Netflix recommender system?, How satisfied are you with the user interface design of Netflix?, genre_1, genre_10, genre_11, genre_12, genre_13, genre_14, genre_15, genre_16, genre_17, genre_2, genre_3, genre_4, genre_5, genre_6, genre_7, genre_8, genre_9]\n",
       "Index: []\n",
       "\n",
       "[0 rows x 43 columns]"
      ]
     },
     "execution_count": 11,
     "metadata": {},
     "output_type": "execute_result"
    }
   ],
   "source": [
    "df.head(0)"
   ]
  },
  {
   "cell_type": "markdown",
   "id": "33d70fa2-9116-4e83-a23e-386f55e17348",
   "metadata": {},
   "source": [
    "Rename the 'genre_#' with the actual genre selections from survey by mapping."
   ]
  },
  {
   "cell_type": "code",
   "execution_count": 12,
   "id": "e0a0cf2b-deaf-4144-8e06-24854050e761",
   "metadata": {},
   "outputs": [],
   "source": [
    "genres = {\n",
    "    '1': \"TV_Shows\",\n",
    "    '2': \"Movies\",\n",
    "    '3': \"Documentaries\",\n",
    "    '4': \"Standup_Comedy\",\n",
    "    '5': \"Reality_Shows\",\n",
    "    '6': \"Animated_Series\",\n",
    "    '7': \"Foreign_Language\",\n",
    "    '8': \"Original_Content\",\n",
    "    '9': \"Children\",\n",
    "    '10': \"Drama\",\n",
    "    '11': \"Action_Adventure\",\n",
    "    '12': \"Romance\",\n",
    "    '13': \"Comedy\",\n",
    "    '14': \"Horror\",\n",
    "    '15': \"SciFi_Fantasy\",\n",
    "    '16': \"Thriller_Suspense\",\n",
    "    '17': \"Other\"\n",
    "}\n",
    "\n",
    "rename_map = {f\"genre_{k}\": genres[k] for k in genres if f\"genre_{k}\" in df.columns}\n",
    "df.rename(columns=rename_map, inplace=True)"
   ]
  },
  {
   "cell_type": "code",
   "execution_count": 13,
   "id": "88bee416-e2d6-44ee-974d-cf61e639cf72",
   "metadata": {},
   "outputs": [
    {
     "data": {
      "text/html": [
       "<div>\n",
       "<style scoped>\n",
       "    .dataframe tbody tr th:only-of-type {\n",
       "        vertical-align: middle;\n",
       "    }\n",
       "\n",
       "    .dataframe tbody tr th {\n",
       "        vertical-align: top;\n",
       "    }\n",
       "\n",
       "    .dataframe thead th {\n",
       "        text-align: right;\n",
       "    }\n",
       "</style>\n",
       "<table border=\"1\" class=\"dataframe\">\n",
       "  <thead>\n",
       "    <tr style=\"text-align: right;\">\n",
       "      <th></th>\n",
       "      <th>What is your age range?</th>\n",
       "      <th>What is your current employment status or profession?</th>\n",
       "      <th>For how many years have you been a Netflix subscriber?</th>\n",
       "      <th>How often do you watch Netflix in a typical week?</th>\n",
       "      <th>Using the scale below, please rate how likely you are to choose Netflix over the following streaming services based on its subscription cost: - Amazon Prime Video</th>\n",
       "      <th>Using the scale below, please rate how likely you are to choose Netflix over the following streaming services based on its subscription cost: - Hulu</th>\n",
       "      <th>Using the scale below, please rate how likely you are to choose Netflix over the following streaming services based on its subscription cost: - Disney+</th>\n",
       "      <th>Using the scale below, please rate how likely you are to choose Netflix over the following streaming services based on its subscription cost: - HBO Max</th>\n",
       "      <th>Using the scale below, please rate how likely you are to choose Netflix over the following streaming services based on its content: - Amazon Prime Video</th>\n",
       "      <th>Using the scale below, please rate how likely you are to choose Netflix over the following streaming services based on its content: - Hulu</th>\n",
       "      <th>...</th>\n",
       "      <th>Thriller_Suspense</th>\n",
       "      <th>Other</th>\n",
       "      <th>Movies</th>\n",
       "      <th>Documentaries</th>\n",
       "      <th>Standup_Comedy</th>\n",
       "      <th>Reality_Shows</th>\n",
       "      <th>Animated_Series</th>\n",
       "      <th>Foreign_Language</th>\n",
       "      <th>Original_Content</th>\n",
       "      <th>Children</th>\n",
       "    </tr>\n",
       "  </thead>\n",
       "  <tbody>\n",
       "  </tbody>\n",
       "</table>\n",
       "<p>0 rows × 43 columns</p>\n",
       "</div>"
      ],
      "text/plain": [
       "Empty DataFrame\n",
       "Columns: [What is your age range?, What is your current employment status or profession?, For how many years have you been a Netflix subscriber?, How often do you watch Netflix in a typical week?, Using the scale below, please rate how likely you are to choose Netflix over the following streaming services based on its subscription cost: - Amazon Prime Video, Using the scale below, please rate how likely you are to choose Netflix over the following streaming services based on its subscription cost: - Hulu, Using the scale below, please rate how likely you are to choose Netflix over the following streaming services based on its subscription cost: - Disney+, Using the scale below, please rate how likely you are to choose Netflix over the following streaming services based on its subscription cost: - HBO Max, Using the scale below, please rate how likely you are to choose Netflix over the following streaming services based on its content: - Amazon Prime Video, Using the scale below, please rate how likely you are to choose Netflix over the following streaming services based on its content: - Hulu, Using the scale below, please rate how likely you are to choose Netflix over the following streaming services based on its content: - Disney+, Using the scale below, please rate how likely you are to choose Netflix over the following streaming services based on its content: - HBO Max, Using the scale below, please rate how likely you are to choose Netflix over free videos on the following social media platforms: - YouTube, Using the scale below, please rate how likely you are to choose Netflix over free videos on the following social media platforms: - TikTok, Using the scale below, please rate how likely you are to choose Netflix over free videos on the following social media platforms: - Instagram, Using the scale below, please rate how likely you are to choose Netflix over free videos on the following social media platforms: - Facebook, Using the scale below, please rate how likely you are to choose Netflix over the following social media platforms based on the variety of content available on Netflix. - Youtube, Using the scale below, please rate how likely you are to choose Netflix over the following social media platforms based on the variety of content available on Netflix. - TikTok, Using the scale below, please rate how likely you are to choose Netflix over the following social media platforms based on the variety of content available on Netflix. - Instagram, Using the scale below, please rate how likely you are to choose Netflix over the following social media platforms based on the variety of content available on Netflix. - Facebook, How satisfied are you with Netflix's decision to add ad-supported subscription?, How likely are you to continue subscribing to Netflix, even if some of your favorite shows or movies become unavailable?, How likely are you to recommend Netflix to someone looking for a streaming service, knowing that they have recently cracked down on password sharing?, How satisfied are you with Netflix's original content?, How satisfied are you with Netflix recommender system?, How satisfied are you with the user interface design of Netflix?, TV_Shows, Drama, Action_Adventure, Romance, Comedy, Horror, SciFi_Fantasy, Thriller_Suspense, Other, Movies, Documentaries, Standup_Comedy, Reality_Shows, Animated_Series, Foreign_Language, Original_Content, Children]\n",
       "Index: []\n",
       "\n",
       "[0 rows x 43 columns]"
      ]
     },
     "execution_count": 13,
     "metadata": {},
     "output_type": "execute_result"
    }
   ],
   "source": [
    "df.head(0)"
   ]
  },
  {
   "cell_type": "code",
   "execution_count": 14,
   "id": "141ee62b-b406-4fb0-adc0-1334e003e521",
   "metadata": {},
   "outputs": [
    {
     "name": "stdout",
     "output_type": "stream",
     "text": [
      "(36, 43)\n",
      "Index(['What is your age range?',\n",
      "       'What is your current employment status or profession?',\n",
      "       'For how many years have you been a Netflix subscriber?',\n",
      "       'How often do you watch Netflix in a typical week?',\n",
      "       'Using the scale below, please rate how likely you are to choose Netflix over the following streaming services based on its subscription cost: - Amazon Prime Video',\n",
      "       'Using the scale below, please rate how likely you are to choose Netflix over the following streaming services based on its subscription cost: - Hulu',\n",
      "       'Using the scale below, please rate how likely you are to choose Netflix over the following streaming services based on its subscription cost: - Disney+',\n",
      "       'Using the scale below, please rate how likely you are to choose Netflix over the following streaming services based on its subscription cost: - HBO Max',\n",
      "       'Using the scale below, please rate how likely you are to choose Netflix over the following streaming services based on its content: - Amazon Prime Video',\n",
      "       'Using the scale below, please rate how likely you are to choose Netflix over the following streaming services based on its content: - Hulu',\n",
      "       'Using the scale below, please rate how likely you are to choose Netflix over the following streaming services based on its content: - Disney+',\n",
      "       'Using the scale below, please rate how likely you are to choose Netflix over the following streaming services based on its content: - HBO Max',\n",
      "       'Using the scale below, please rate how likely you are to choose Netflix over free videos on the following social media platforms: - YouTube',\n",
      "       'Using the scale below, please rate how likely you are to choose Netflix over free videos on the following social media platforms: - TikTok',\n",
      "       'Using the scale below, please rate how likely you are to choose Netflix over free videos on the following social media platforms: - Instagram',\n",
      "       'Using the scale below, please rate how likely you are to choose Netflix over free videos on the following social media platforms: - Facebook',\n",
      "       'Using the scale below, please rate how likely you are to choose Netflix over the following social media platforms based on the variety of content available on Netflix. - Youtube',\n",
      "       'Using the scale below, please rate how likely you are to choose Netflix over the following social media platforms based on the variety of content available on Netflix. - TikTok',\n",
      "       'Using the scale below, please rate how likely you are to choose Netflix over the following social media platforms based on the variety of content available on Netflix. - Instagram',\n",
      "       'Using the scale below, please rate how likely you are to choose Netflix over the following social media platforms based on the variety of content available on Netflix. - Facebook',\n",
      "       'How satisfied are you with Netflix's decision to add ad-supported subscription?',\n",
      "       'How likely are you to continue subscribing to Netflix, even if some of your favorite shows or movies become unavailable?',\n",
      "       'How likely are you to recommend Netflix to someone looking for a streaming service, knowing that they have recently cracked down on password sharing?',\n",
      "       'How satisfied are you with Netflix's original content?',\n",
      "       'How satisfied are you with Netflix recommender system?',\n",
      "       'How satisfied are you with the user interface design of Netflix?',\n",
      "       'TV_Shows', 'Drama', 'Action_Adventure', 'Romance', 'Comedy', 'Horror',\n",
      "       'SciFi_Fantasy', 'Thriller_Suspense', 'Other', 'Movies',\n",
      "       'Documentaries', 'Standup_Comedy', 'Reality_Shows', 'Animated_Series',\n",
      "       'Foreign_Language', 'Original_Content', 'Children'],\n",
      "      dtype='object')\n"
     ]
    }
   ],
   "source": [
    "print(df.shape)\n",
    "print(df.columns)"
   ]
  },
  {
   "cell_type": "markdown",
   "id": "01b8b178-f20f-46f1-84dd-d8acdce7eb6b",
   "metadata": {},
   "source": [
    "Check if all are numeric before downloading new file."
   ]
  },
  {
   "cell_type": "code",
   "execution_count": 15,
   "id": "fab65f69-5ce9-4773-9987-f54d3c468a86",
   "metadata": {},
   "outputs": [
    {
     "name": "stdout",
     "output_type": "stream",
     "text": [
      "What is your age range?                                                                                                                                                                float64\n",
      "What is your current employment status or profession?                                                                                                                                  float64\n",
      "For how many years have you been a Netflix subscriber?                                                                                                                                 float64\n",
      "How often do you watch Netflix in a typical week?                                                                                                                                      float64\n",
      "Using the scale below, please rate how likely you are to choose Netflix over the following streaming services based on its subscription cost: - Amazon Prime Video                     float64\n",
      "Using the scale below, please rate how likely you are to choose Netflix over the following streaming services based on its subscription cost: - Hulu                                   float64\n",
      "Using the scale below, please rate how likely you are to choose Netflix over the following streaming services based on its subscription cost: - Disney+                                float64\n",
      "Using the scale below, please rate how likely you are to choose Netflix over the following streaming services based on its subscription cost: - HBO Max                                float64\n",
      "Using the scale below, please rate how likely you are to choose Netflix over the following streaming services based on its content: - Amazon Prime Video                               float64\n",
      "Using the scale below, please rate how likely you are to choose Netflix over the following streaming services based on its content: - Hulu                                             float64\n",
      "Using the scale below, please rate how likely you are to choose Netflix over the following streaming services based on its content: - Disney+                                          float64\n",
      "Using the scale below, please rate how likely you are to choose Netflix over the following streaming services based on its content: - HBO Max                                          float64\n",
      "Using the scale below, please rate how likely you are to choose Netflix over free videos on the following social media platforms: - YouTube                                            float64\n",
      "Using the scale below, please rate how likely you are to choose Netflix over free videos on the following social media platforms: - TikTok                                             float64\n",
      "Using the scale below, please rate how likely you are to choose Netflix over free videos on the following social media platforms: - Instagram                                          float64\n",
      "Using the scale below, please rate how likely you are to choose Netflix over free videos on the following social media platforms: - Facebook                                           float64\n",
      "Using the scale below, please rate how likely you are to choose Netflix over the following social media platforms based on the variety of content available on Netflix. - Youtube      float64\n",
      "Using the scale below, please rate how likely you are to choose Netflix over the following social media platforms based on the variety of content available on Netflix. - TikTok       float64\n",
      "Using the scale below, please rate how likely you are to choose Netflix over the following social media platforms based on the variety of content available on Netflix. - Instagram    float64\n",
      "Using the scale below, please rate how likely you are to choose Netflix over the following social media platforms based on the variety of content available on Netflix. - Facebook     float64\n",
      "How satisfied are you with Netflix's decision to add ad-supported subscription?                                                                                                        float64\n",
      "How likely are you to continue subscribing to Netflix, even if some of your favorite shows or movies become unavailable?                                                               float64\n",
      "How likely are you to recommend Netflix to someone looking for a streaming service, knowing that they have recently cracked down on password sharing?                                  float64\n",
      "How satisfied are you with Netflix's original content?                                                                                                                                 float64\n",
      "How satisfied are you with Netflix recommender system?                                                                                                                                 float64\n",
      "How satisfied are you with the user interface design of Netflix?                                                                                                                       float64\n",
      "TV_Shows                                                                                                                                                                                 int64\n",
      "Drama                                                                                                                                                                                    int64\n",
      "Action_Adventure                                                                                                                                                                         int64\n",
      "Romance                                                                                                                                                                                  int64\n",
      "Comedy                                                                                                                                                                                   int64\n",
      "Horror                                                                                                                                                                                   int64\n",
      "SciFi_Fantasy                                                                                                                                                                            int64\n",
      "Thriller_Suspense                                                                                                                                                                        int64\n",
      "Other                                                                                                                                                                                    int64\n",
      "Movies                                                                                                                                                                                   int64\n",
      "Documentaries                                                                                                                                                                            int64\n",
      "Standup_Comedy                                                                                                                                                                           int64\n",
      "Reality_Shows                                                                                                                                                                            int64\n",
      "Animated_Series                                                                                                                                                                          int64\n",
      "Foreign_Language                                                                                                                                                                         int64\n",
      "Original_Content                                                                                                                                                                         int64\n",
      "Children                                                                                                                                                                                 int64\n",
      "dtype: object\n"
     ]
    }
   ],
   "source": [
    "print(df.dtypes)"
   ]
  },
  {
   "cell_type": "code",
   "execution_count": 16,
   "id": "83556c8d-18f8-463c-be44-a4d832faf1b3",
   "metadata": {},
   "outputs": [],
   "source": [
    "df.to_csv(\"processed_stream.csv\", index=False)"
   ]
  },
  {
   "cell_type": "code",
   "execution_count": 17,
   "id": "e0fb3996-eb88-46f0-a09f-3b17d5187997",
   "metadata": {},
   "outputs": [],
   "source": [
    "## Class Imbalance"
   ]
  },
  {
   "cell_type": "code",
   "execution_count": 18,
   "id": "d68782ef-338e-4ae4-9923-5bcc75d79096",
   "metadata": {},
   "outputs": [
    {
     "data": {
      "text/plain": [
       "<Axes: >"
      ]
     },
     "execution_count": 18,
     "metadata": {},
     "output_type": "execute_result"
    },
    {
     "data": {
      "image/png": "[encoded data removed]",
      "text/plain": [
       "<Figure size 640x480 with 1 Axes>"
      ]
     },
     "metadata": {},
     "output_type": "display_data"
    }
   ],
   "source": [
    "df[\"How likely are you to recommend Netflix to someone looking for a streaming service, knowing that they have recently cracked down on password sharing?\"].hist()"
   ]
  },
  {
   "cell_type": "markdown",
   "id": "8dc20679-a3bb-4bd6-8c10-46c69a11fe74",
   "metadata": {},
   "source": [
    "**Analysis:** There are 5 classes (extremely unlikely, ..., extremely likely). There is a class imbalance since class 3 and class 5 have fewer data compared to the other classes. Class 1 and class 2 have the most. To handle class imbalance, oversampling will be used and f1-score instead of accuracy when training/testing the model. "
   ]
  }
 ],
 "metadata": {
  "kernelspec": {
   "display_name": "python_ML_3.13",
   "language": "python",
   "name": "python_ml_3.13"
  },
  "language_info": {
   "codemirror_mode": {
    "name": "ipython",
    "version": 3
   },
   "file_extension": ".py",
   "mimetype": "text/x-python",
   "name": "python",
   "nbconvert_exporter": "python",
   "pygments_lexer": "ipython3",
   "version": "3.13.1"
  }
 },
 "nbformat": 4,
 "nbformat_minor": 5
}
