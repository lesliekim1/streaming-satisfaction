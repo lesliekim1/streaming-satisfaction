{
 "cells": [
  {
   "cell_type": "markdown",
   "id": "01f0961b-fb04-4a6b-9873-c4850a955948",
   "metadata": {},
   "source": [
    "init"
   ]
  }
 ],
 "metadata": {
  "kernelspec": {
   "display_name": "python_ML_3.13",
   "language": "python",
   "name": "python_ml_3.13"
  },
  "language_info": {
   "codemirror_mode": {
    "name": "ipython",
    "version": 3
   },
   "file_extension": ".py",
   "mimetype": "text/x-python",
   "name": "python",
   "nbconvert_exporter": "python",
   "pygments_lexer": "ipython3",
   "version": "3.13.1"
  }
 },
 "nbformat": 4,
 "nbformat_minor": 5
}
